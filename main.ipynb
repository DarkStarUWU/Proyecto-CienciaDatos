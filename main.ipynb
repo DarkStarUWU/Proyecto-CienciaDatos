{
 "cells": [
  {
   "cell_type": "code",
   "execution_count": 67,
   "id": "acd3ba86",
   "metadata": {},
   "outputs": [],
   "source": [
    "import pandas as pd\n",
    "from string import ascii_uppercase as alfabeto"
   ]
  },
  {
   "cell_type": "code",
   "execution_count": 4,
   "id": "12a6feb1",
   "metadata": {},
   "outputs": [],
   "source": [
    "total_tablas = pd.read_html(\"https://en.wikipedia.org/wiki/2022_FIFA_World_Cup\")"
   ]
  },
  {
   "cell_type": "code",
   "execution_count": 51,
   "id": "c316d01f",
   "metadata": {
    "scrolled": false
   },
   "outputs": [
    {
     "data": {
      "text/html": [
       "<div>\n",
       "<style scoped>\n",
       "    .dataframe tbody tr th:only-of-type {\n",
       "        vertical-align: middle;\n",
       "    }\n",
       "\n",
       "    .dataframe tbody tr th {\n",
       "        vertical-align: top;\n",
       "    }\n",
       "\n",
       "    .dataframe thead th {\n",
       "        text-align: right;\n",
       "    }\n",
       "</style>\n",
       "<table border=\"1\" class=\"dataframe\">\n",
       "  <thead>\n",
       "    <tr style=\"text-align: right;\">\n",
       "      <th></th>\n",
       "      <th>Pos</th>\n",
       "      <th>Teamvte</th>\n",
       "      <th>Pld</th>\n",
       "      <th>W</th>\n",
       "      <th>D</th>\n",
       "      <th>L</th>\n",
       "      <th>GF</th>\n",
       "      <th>GA</th>\n",
       "      <th>GD</th>\n",
       "      <th>Pts</th>\n",
       "      <th>Qualification</th>\n",
       "    </tr>\n",
       "  </thead>\n",
       "  <tbody>\n",
       "    <tr>\n",
       "      <th>0</th>\n",
       "      <td>1</td>\n",
       "      <td>Argentina</td>\n",
       "      <td>3</td>\n",
       "      <td>2</td>\n",
       "      <td>0</td>\n",
       "      <td>1</td>\n",
       "      <td>5</td>\n",
       "      <td>2</td>\n",
       "      <td>+3</td>\n",
       "      <td>6</td>\n",
       "      <td>Advanced to knockout stage</td>\n",
       "    </tr>\n",
       "    <tr>\n",
       "      <th>1</th>\n",
       "      <td>2</td>\n",
       "      <td>Poland</td>\n",
       "      <td>3</td>\n",
       "      <td>1</td>\n",
       "      <td>1</td>\n",
       "      <td>1</td>\n",
       "      <td>2</td>\n",
       "      <td>2</td>\n",
       "      <td>0</td>\n",
       "      <td>4</td>\n",
       "      <td>Advanced to knockout stage</td>\n",
       "    </tr>\n",
       "    <tr>\n",
       "      <th>2</th>\n",
       "      <td>3</td>\n",
       "      <td>Mexico</td>\n",
       "      <td>3</td>\n",
       "      <td>1</td>\n",
       "      <td>1</td>\n",
       "      <td>1</td>\n",
       "      <td>2</td>\n",
       "      <td>3</td>\n",
       "      <td>−1</td>\n",
       "      <td>4</td>\n",
       "      <td>NaN</td>\n",
       "    </tr>\n",
       "    <tr>\n",
       "      <th>3</th>\n",
       "      <td>4</td>\n",
       "      <td>Saudi Arabia</td>\n",
       "      <td>3</td>\n",
       "      <td>1</td>\n",
       "      <td>0</td>\n",
       "      <td>2</td>\n",
       "      <td>3</td>\n",
       "      <td>5</td>\n",
       "      <td>−2</td>\n",
       "      <td>3</td>\n",
       "      <td>NaN</td>\n",
       "    </tr>\n",
       "  </tbody>\n",
       "</table>\n",
       "</div>"
      ],
      "text/plain": [
       "   Pos       Teamvte  Pld  W  D  L  GF  GA  GD  Pts   \n",
       "0    1     Argentina    3  2  0  1   5   2  +3    6  \\\n",
       "1    2        Poland    3  1  1  1   2   2   0    4   \n",
       "2    3        Mexico    3  1  1  1   2   3  −1    4   \n",
       "3    4  Saudi Arabia    3  1  0  2   3   5  −2    3   \n",
       "\n",
       "                Qualification  \n",
       "0  Advanced to knockout stage  \n",
       "1  Advanced to knockout stage  \n",
       "2                         NaN  \n",
       "3                         NaN  "
      ]
     },
     "execution_count": 51,
     "metadata": {},
     "output_type": "execute_result"
    }
   ],
   "source": [
    "#A -> H\n",
    "# la primera tabla esta en la 9 -> \n",
    "total_tablas[9]\n",
    "total_tablas[16]\n",
    "total_tablas[23]\n"
   ]
  },
  {
   "cell_type": "code",
   "execution_count": 68,
   "id": "369883d6",
   "metadata": {},
   "outputs": [
    {
     "data": {
      "text/plain": [
       "'ABCDEFGHIJKLMNOPQRSTUVWXYZ'"
      ]
     },
     "execution_count": 68,
     "metadata": {},
     "output_type": "execute_result"
    }
   ],
   "source": [
    "total_tablas[9].columns[1]"
   ]
  },
  {
   "cell_type": "code",
   "execution_count": 66,
   "id": "b5635028",
   "metadata": {},
   "outputs": [
    {
     "name": "stdout",
     "output_type": "stream",
     "text": [
      "   Pos         Team  Pld  W  D  L  GF  GA  GD  Pts\n",
      "0    1  Netherlands    3  2  1  0   5   1  +4    7\n",
      "1    2      Senegal    3  2  0  1   5   4  +1    6\n",
      "2    3      Ecuador    3  1  1  1   4   3  +1    4\n",
      "3    4    Qatar (H)    3  0  0  3   1   7  −6    0\n",
      "   Pos           Team  Pld  W  D  L  GF  GA  GD  Pts\n",
      "0    1        England    3  2  1  0   9   2  +7    7\n",
      "1    2  United States    3  1  2  0   2   1  +1    5\n",
      "2    3           Iran    3  1  0  2   4   7  −3    3\n",
      "3    4          Wales    3  0  1  2   1   6  −5    1\n",
      "   Pos          Team  Pld  W  D  L  GF  GA  GD  Pts\n",
      "0    1     Argentina    3  2  0  1   5   2  +3    6\n",
      "1    2        Poland    3  1  1  1   2   2   0    4\n",
      "2    3        Mexico    3  1  1  1   2   3  −1    4\n",
      "3    4  Saudi Arabia    3  1  0  2   3   5  −2    3\n",
      "   Pos       Team  Pld  W  D  L  GF  GA  GD  Pts\n",
      "0    1     France    3  2  0  1   6   3  +3    6\n",
      "1    2  Australia    3  2  0  1   3   4  −1    6\n",
      "2    3    Tunisia    3  1  1  1   1   1   0    4\n",
      "3    4    Denmark    3  0  1  2   1   3  −2    1\n",
      "   Pos        Team  Pld  W  D  L  GF  GA  GD  Pts\n",
      "0    1       Japan    3  2  0  1   4   3  +1    6\n",
      "1    2       Spain    3  1  1  1   9   3  +6    4\n",
      "2    3     Germany    3  1  1  1   6   5  +1    4\n",
      "3    4  Costa Rica    3  1  0  2   3  11  −8    3\n",
      "   Pos     Team  Pld  W  D  L  GF  GA  GD  Pts\n",
      "0    1  Morocco    3  2  1  0   4   1  +3    7\n",
      "1    2  Croatia    3  1  2  0   4   1  +3    5\n",
      "2    3  Belgium    3  1  1  1   1   2  −1    4\n",
      "3    4   Canada    3  0  0  3   2   7  −5    0\n",
      "   Pos         Team  Pld  W  D  L  GF  GA  GD  Pts\n",
      "0    1       Brazil    3  2  0  1   3   1  +2    6\n",
      "1    2  Switzerland    3  2  0  1   4   3  +1    6\n",
      "2    3     Cameroon    3  1  1  1   4   4   0    4\n",
      "3    4       Serbia    3  0  1  2   5   8  −3    1\n",
      "   Pos         Team  Pld  W  D  L  GF  GA  GD  Pts\n",
      "0    1     Portugal    3  2  0  1   6   4  +2    6\n",
      "1    2  South Korea    3  1  1  1   4   4   0    4\n",
      "2    3      Uruguay    3  1  1  1   2   2   0    4\n",
      "3    4        Ghana    3  1  0  2   5   7  −2    3\n"
     ]
    }
   ],
   "source": [
    "total_tablas[9].columns\n",
    "\n",
    "for i in range(9, 60, 7):\n",
    "    df = total_tablas[i]\n",
    "    df.rename(columns={df.columns[1]: 'Team'}, inplace=True)\n",
    "    df.pop('Qualification')\n",
    "    print(df)\n",
    "    "
   ]
  },
  {
   "cell_type": "code",
   "execution_count": null,
   "id": "c64415dd",
   "metadata": {},
   "outputs": [],
   "source": []
  }
 ],
 "metadata": {
  "kernelspec": {
   "display_name": "Python 3 (ipykernel)",
   "language": "python",
   "name": "python3"
  },
  "language_info": {
   "codemirror_mode": {
    "name": "ipython",
    "version": 3
   },
   "file_extension": ".py",
   "mimetype": "text/x-python",
   "name": "python",
   "nbconvert_exporter": "python",
   "pygments_lexer": "ipython3",
   "version": "3.10.7"
  }
 },
 "nbformat": 4,
 "nbformat_minor": 5
}
